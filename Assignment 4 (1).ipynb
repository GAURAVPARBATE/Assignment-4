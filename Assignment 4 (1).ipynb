{
 "cells": [
  {
   "cell_type": "code",
   "execution_count": 1,
   "id": "44c52552-229c-498b-8736-91fee05f5415",
   "metadata": {},
   "outputs": [
    {
     "ename": "SyntaxError",
     "evalue": "invalid character '“' (U+201C) (1280156567.py, line 1)",
     "output_type": "error",
     "traceback": [
      "\u001b[0;36m  Cell \u001b[0;32mIn[1], line 1\u001b[0;36m\u001b[0m\n\u001b[0;31m    Q1. You are writing code for a company. The requirement of the company is that you create a python function that will check whether the password entered by the user is correct or not. The function should take the password as input and return the string “Valid Password” if the entered password follows the below-given password guidelines else it should return “Invalid Password”. Note: 1. The Password should contain at least two uppercase letters and at least two lowercase letters. 2. The Password should contain at least a number and three special characters. 3. The length of the password should be 10 characters long.\u001b[0m\n\u001b[0m                                                                                                                                                                                                                                                                 ^\u001b[0m\n\u001b[0;31mSyntaxError\u001b[0m\u001b[0;31m:\u001b[0m invalid character '“' (U+201C)\n"
     ]
    }
   ],
   "source": [
    "\n",
    "##1.create a python program to sort the given list of tuples based on integer value using a lambda function.\n",
    "\n",
    "l=[('Sachin Tendulkar', 34357), ('Ricky Ponting', 27483), ('Jack Kallis', 25534), ('Virat Kohli', 24936)]\n",
    "l.sort(key=lambda x:x[1])\n",
    "print(l)\n",
    "[('Virat Kohli', 24936), ('Jack Kallis', 25534), ('Ricky Ponting', 27483), ('Sachin Tendulkar', 34357)]\n",
    "##2.write a python program to find the square of all the numbers in the given list of integers using lambda and map function\n",
    "\n",
    "l=[1,2,3,4,5,6,7,8,9,10]\n",
    "list(map(lambda x:x**2,l))\n",
    "[1, 4, 9, 16, 25, 36, 49, 64, 81, 100]\n",
    "##3.write a python program to convert the given list of integers into a tuple of strings.use map and lambda function\n",
    "\n",
    "l=[1,2,3,4,5,6,7,8,9,10]\n",
    "tuple(map(lambda x:str(x),l))\n",
    "('1', '2', '3', '4', '5', '6', '7', '8', '9', '10')\n",
    "##4.write a python program using reduce function to compute the product of a list containing numbers from 1 tp 25.\n",
    "\n",
    "from functools import reduce\n",
    "l=list(range(1,26))\n",
    "reduce(lambda x,y:x*y,l)\n",
    "15511210043330985984000000\n",
    "##5.write a python program to filter the givem number in a list that are divisible by 2 and 3 using filter function\n",
    "\n",
    "l=[2,3,6,9,27,60,90,120,55,46]\n",
    "list(filter(lambda x:x%2==0 and x%3==0,l))\n",
    "[6, 60, 90, 120]\n",
    "##6.write a python program to find the palindrome in the given list of string using lambda and filter function\n",
    "\n",
    "l=[\"python\", \"php\",\"aba\",\"radar\",\"level\"]\n",
    "list(filter(lambda x:(x==\"\".join(reversed(x))),l))\n",
    "['php', 'aba', 'radar', 'level']\n",
    " "
   ]
  },
  {
   "cell_type": "code",
   "execution_count": null,
   "id": "333e6c45-466c-480f-9855-89c7d9f8f0ca",
   "metadata": {},
   "outputs": [],
   "source": []
  }
 ],
 "metadata": {
  "kernelspec": {
   "display_name": "Python 3 (ipykernel)",
   "language": "python",
   "name": "python3"
  },
  "language_info": {
   "codemirror_mode": {
    "name": "ipython",
    "version": 3
   },
   "file_extension": ".py",
   "mimetype": "text/x-python",
   "name": "python",
   "nbconvert_exporter": "python",
   "pygments_lexer": "ipython3",
   "version": "3.10.8"
  }
 },
 "nbformat": 4,
 "nbformat_minor": 5
}
